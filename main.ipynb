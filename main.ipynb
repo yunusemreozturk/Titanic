{
 "cells": [
  {
   "cell_type": "markdown",
   "source": [
    "Kütüphaneleri yükledik\n"
   ],
   "metadata": {
    "collapsed": false
   }
  },
  {
   "cell_type": "code",
   "execution_count": 4,
   "id": "8a137520",
   "metadata": {},
   "outputs": [],
   "source": [
    "import pandas as pd\n",
    "import numpy as np\n",
    "from sklearn.impute import SimpleImputer  # for missing data\n",
    "from sklearn import preprocessing  # for Dummy Variable\n",
    "from sklearn.model_selection import train_test_split  # to split data into train and test\n",
    "from sklearn.preprocessing import StandardScaler  # for scaling"
   ]
  },
  {
   "cell_type": "markdown",
   "source": [
    "Dataset'leri içe aktardık\n"
   ],
   "metadata": {
    "collapsed": false
   }
  },
  {
   "cell_type": "code",
   "execution_count": 3,
   "id": "16d1208a",
   "metadata": {},
   "outputs": [
    {
     "ename": "NameError",
     "evalue": "name 'pd' is not defined",
     "output_type": "error",
     "traceback": [
      "\u001B[1;31m---------------------------------------------------------------------------\u001B[0m",
      "\u001B[1;31mNameError\u001B[0m                                 Traceback (most recent call last)",
      "\u001B[1;32m<ipython-input-3-e2158eb80cd4>\u001B[0m in \u001B[0;36m<module>\u001B[1;34m\u001B[0m\n\u001B[1;32m----> 1\u001B[1;33m train = pd.read_csv(\n\u001B[0m\u001B[0;32m      2\u001B[0m     'C:\\\\Users\\\\Genos\\\\Projeler\\\\Python İle Makine Öğrenmesi\\\\Projeler\\\\Titanic(ML)\\\\datasets\\\\train.csv')\n\u001B[0;32m      3\u001B[0m \u001B[0mtest\u001B[0m \u001B[1;33m=\u001B[0m \u001B[0mpd\u001B[0m\u001B[1;33m.\u001B[0m\u001B[0mread_csv\u001B[0m\u001B[1;33m(\u001B[0m\u001B[1;34m'C:\\\\Users\\\\Genos\\\\Projeler\\\\Python İle Makine Öğrenmesi\\\\Projeler\\\\Titanic(ML)\\\\datasets\\\\test.csv'\u001B[0m\u001B[1;33m)\u001B[0m\u001B[1;33m\u001B[0m\u001B[1;33m\u001B[0m\u001B[0m\n\u001B[0;32m      4\u001B[0m test_survived = pd.read_csv(\n\u001B[0;32m      5\u001B[0m     'C:\\\\Users\\\\Genos\\\\Projeler\\\\Python İle Makine Öğrenmesi\\\\Projeler\\\\Titanic(ML)\\\\datasets\\\\gender_submission.csv')\n",
      "\u001B[1;31mNameError\u001B[0m: name 'pd' is not defined"
     ]
    }
   ],
   "source": [
    "train = pd.read_csv(\n",
    "    'C:\\\\Users\\\\Genos\\\\Projeler\\\\Python İle Makine Öğrenmesi\\\\Projeler\\\\Titanic(ML)\\\\datasets\\\\train.csv')\n",
    "test = pd.read_csv('C:\\\\Users\\\\Genos\\\\Projeler\\\\Python İle Makine Öğrenmesi\\\\Projeler\\\\Titanic(ML)\\\\datasets\\\\test.csv')\n",
    "test_survived = pd.read_csv(\n",
    "    'C:\\\\Users\\\\Genos\\\\Projeler\\\\Python İle Makine Öğrenmesi\\\\Projeler\\\\Titanic(ML)\\\\datasets\\\\gender_submission.csv')"
   ]
  },
  {
   "cell_type": "markdown",
   "source": [
    "Burada sonrasında train test split veya cross validation kullanacağımız için hepsini tek bir data olarak topluyoruz ya da görselleştirmede daha büyük bir veri setimiz olduğu için farklı şeyler fark edebiliriz."
   ],
   "metadata": {
    "collapsed": false
   }
  },
  {
   "cell_type": "code",
   "execution_count": 2,
   "outputs": [
    {
     "ename": "NameError",
     "evalue": "name 'pd' is not defined",
     "output_type": "error",
     "traceback": [
      "\u001B[1;31m---------------------------------------------------------------------------\u001B[0m",
      "\u001B[1;31mNameError\u001B[0m                                 Traceback (most recent call last)",
      "\u001B[1;32m<ipython-input-2-078e865520c3>\u001B[0m in \u001B[0;36m<module>\u001B[1;34m\u001B[0m\n\u001B[1;32m----> 1\u001B[1;33m \u001B[0mall_test\u001B[0m \u001B[1;33m=\u001B[0m \u001B[0mpd\u001B[0m\u001B[1;33m.\u001B[0m\u001B[0mmerge\u001B[0m\u001B[1;33m(\u001B[0m\u001B[0mtest\u001B[0m\u001B[1;33m,\u001B[0m \u001B[0mtest_survived\u001B[0m\u001B[1;33m,\u001B[0m \u001B[0mon\u001B[0m\u001B[1;33m=\u001B[0m\u001B[1;34m'PassengerId'\u001B[0m\u001B[1;33m)\u001B[0m\u001B[1;33m\u001B[0m\u001B[1;33m\u001B[0m\u001B[0m\n\u001B[0m\u001B[0;32m      2\u001B[0m \u001B[0mall_data\u001B[0m \u001B[1;33m=\u001B[0m \u001B[0mpd\u001B[0m\u001B[1;33m.\u001B[0m\u001B[0mconcat\u001B[0m\u001B[1;33m(\u001B[0m\u001B[1;33m[\u001B[0m\u001B[0mtrain\u001B[0m\u001B[1;33m,\u001B[0m \u001B[0mall_test\u001B[0m\u001B[1;33m]\u001B[0m\u001B[1;33m,\u001B[0m \u001B[0maxis\u001B[0m\u001B[1;33m=\u001B[0m\u001B[1;36m0\u001B[0m\u001B[1;33m)\u001B[0m\u001B[1;33m\u001B[0m\u001B[1;33m\u001B[0m\u001B[0m\n",
      "\u001B[1;31mNameError\u001B[0m: name 'pd' is not defined"
     ]
    }
   ],
   "source": [
    "all_test = pd.merge(test, test_survived, on='PassengerId')\n",
    "all_data = pd.concat([train, all_test], axis=0)"
   ],
   "metadata": {
    "collapsed": false,
    "pycharm": {
     "name": "#%%\n"
    }
   }
  },
  {
   "cell_type": "code",
   "execution_count": 5,
   "outputs": [
    {
     "ename": "NameError",
     "evalue": "name 'all_data' is not defined",
     "output_type": "error",
     "traceback": [
      "\u001B[1;31m---------------------------------------------------------------------------\u001B[0m",
      "\u001B[1;31mNameError\u001B[0m                                 Traceback (most recent call last)",
      "\u001B[1;32m<ipython-input-5-0cd65f1f8801>\u001B[0m in \u001B[0;36m<module>\u001B[1;34m\u001B[0m\n\u001B[1;32m----> 1\u001B[1;33m \u001B[0mall_data\u001B[0m\u001B[1;33m\u001B[0m\u001B[1;33m\u001B[0m\u001B[0m\n\u001B[0m",
      "\u001B[1;31mNameError\u001B[0m: name 'all_data' is not defined"
     ]
    }
   ],
   "source": [
    "all_data"
   ],
   "metadata": {
    "collapsed": false,
    "pycharm": {
     "name": "#%%\n"
    }
   }
  },
  {
   "cell_type": "code",
   "execution_count": 3,
   "id": "2eeeb8cc",
   "metadata": {},
   "outputs": [],
   "source": [
    "# Age, Fare\n",
    "imputer_num = SimpleImputer(missing_values=np.nan, strategy='mean')\n",
    "all_data[['Age', 'Fare']] = imputer_num.fit_transform(all_data[['Age', 'Fare']])\n",
    "\n",
    "imputer_cab = SimpleImputer(missing_values=np.nan, strategy='constant', fill_value='Unknown')\n",
    "all_data['Cabin'] = pd.DataFrame(imputer_cab.fit_transform(all_data['Cabin'].values.reshape(1309, 1)))\n",
    "\n",
    "imputer_emb = SimpleImputer(missing_values=np.nan, strategy='most_frequent')\n",
    "all_data['Embarked'] = pd.DataFrame(imputer_emb.fit_transform(all_data['Embarked'].values.reshape(1309, 1)))"
   ]
  },
  {
   "cell_type": "code",
   "execution_count": null,
   "outputs": [],
   "source": [
    "all_data.info()"
   ],
   "metadata": {
    "collapsed": false,
    "pycharm": {
     "name": "#%%\n"
    }
   }
  },
  {
   "cell_type": "code",
   "execution_count": 4,
   "id": "9f8a8aca",
   "metadata": {},
   "outputs": [],
   "source": [
    "# edited the index\n",
    "all_data = all_data.iloc[:, 1:]\n",
    "all_data.reset_index(inplace=True)\n",
    "all_data.drop(['index'], axis=1, inplace=True)"
   ]
  },
  {
   "cell_type": "code",
   "execution_count": 5,
   "id": "d86437e8",
   "metadata": {},
   "outputs": [],
   "source": [
    "# Sex, Embarked, Cabin, Ticket\n",
    "oe = preprocessing.OrdinalEncoder()\n",
    "\n",
    "all_data['Sex'] = oe.fit_transform(all_data['Sex'].values.reshape(-1, 1))\n",
    "all_data['Embarked'] = oe.fit_transform(all_data['Embarked'].values.reshape(-1, 1))\n",
    "all_data['Cabin'] = oe.fit_transform(all_data['Cabin'].values.reshape(-1, 1))\n",
    "all_data['Ticket'] = oe.fit_transform(all_data['Ticket'].values.reshape(-1, 1))"
   ]
  },
  {
   "cell_type": "code",
   "execution_count": 6,
   "id": "ec2199fa",
   "metadata": {
    "pycharm": {
     "name": "#%%\n"
    }
   },
   "outputs": [],
   "source": [
    "# Pclass, Embarked\n",
    "ohe = preprocessing.OneHotEncoder(sparse=False)\n",
    "\n",
    "pclass = pd.DataFrame(ohe.fit_transform(all_data['Pclass'].values.reshape(-1, 1)))\n",
    "embarked = pd.DataFrame(ohe.fit_transform(all_data['Embarked'].values.reshape(-1, 1)))"
   ]
  },
  {
   "cell_type": "code",
   "execution_count": 7,
   "id": "7d6e9679",
   "metadata": {},
   "outputs": [],
   "source": [
    "embarked_df = pd.DataFrame(data=embarked.values, index=range(len(embarked)), columns=['C', 'Q', 'S'])\n",
    "pclass_df = pd.DataFrame(data=pclass.values, index=range(len(pclass)), columns=['1st', '2nd', '3rd'])\n",
    "\n",
    "# drop the Pclass, Embarked, Name\n",
    "all_data = all_data.drop(['Pclass', 'Embarked'], axis=1)\n",
    "\n",
    "result0 = pd.concat([embarked_df, pclass_df], axis=1)\n",
    "result = pd.concat([result0, all_data], axis=1)\n",
    "\n",
    "result.drop('Name', axis=1, inplace=True)\n",
    "x = result.drop('Survived', axis=1)\n",
    "y = result['Survived']"
   ]
  },
  {
   "cell_type": "code",
   "execution_count": 8,
   "id": "bd79025b",
   "metadata": {},
   "outputs": [],
   "source": [
    "# splitting data for training and testing\n",
    "x_train, x_test, y_train, y_test = train_test_split(x, y, test_size=0.33, random_state=0)"
   ]
  },
  {
   "cell_type": "code",
   "execution_count": 39,
   "id": "0b7f98f0",
   "metadata": {},
   "outputs": [
    {
     "data": {
      "text/plain": [
       "RangeIndex(start=0, stop=1309, step=1)"
      ]
     },
     "execution_count": 39,
     "metadata": {},
     "output_type": "execute_result"
    }
   ],
   "source": [
    "result.index"
   ]
  },
  {
   "cell_type": "code",
   "execution_count": 9,
   "id": "d1f3de01",
   "metadata": {},
   "outputs": [],
   "source": [
    "# Scaling\n",
    "sc = StandardScaler()\n",
    "\n",
    "X_train = sc.fit_transform(x_train)\n",
    "X_test = sc.fit_transform(x_test)"
   ]
  },
  {
   "cell_type": "code",
   "execution_count": 10,
   "id": "7417e780",
   "metadata": {},
   "outputs": [],
   "source": [
    "from sklearn.linear_model import LogisticRegression  # Linear Regression\n",
    "from xgboost import XGBClassifier # Xgboost\n",
    "from sklearn.metrics import confusion_matrix  # confusion matrix\n",
    "import matplotlib.pyplot as plt\n",
    "from sklearn.svm import SVC # SVC\n",
    "from sklearn.neighbors import KNeighborsClassifier # KNN\n",
    "from sklearn.naive_bayes import GaussianNB # Naive Bayes\n",
    "from sklearn.tree import DecisionTreeClassifier # Decision Tree\n",
    "from sklearn.ensemble import RandomForestClassifier # Random Forest\n",
    "from sklearn.model_selection import cross_val_score # cross validation score"
   ]
  },
  {
   "cell_type": "code",
   "execution_count": 11,
   "id": "6c44a4a5",
   "metadata": {},
   "outputs": [
    {
     "name": "stdout",
     "output_type": "stream",
     "text": [
      "Logistic Regression[0.86931818 0.81818182 0.85714286 0.82285714 0.87428571]\n",
      "0.8483571428571428\n"
     ]
    }
   ],
   "source": [
    "print('Logistic Regression', end='')\n",
    "log_reg = LogisticRegression(random_state=0)\n",
    "cv = cross_val_score(estimator=log_reg, X=X_train, y=y_train, cv=5)\n",
    "\n",
    "print(cv)\n",
    "print(cv.mean())"
   ]
  },
  {
   "cell_type": "code",
   "execution_count": 12,
   "id": "bea72fb4",
   "metadata": {},
   "outputs": [
    {
     "name": "stdout",
     "output_type": "stream",
     "text": [
      "K-NN[0.81818182 0.8125     0.81714286 0.82857143 0.8       ]\n",
      "0.8152792207792208\n"
     ]
    }
   ],
   "source": [
    "print('K-NN', end='')\n",
    "knn = KNeighborsClassifier(n_neighbors=3, metric='minkowski')\n",
    "cv = cross_val_score(estimator=knn, X=X_train, y=y_train, cv=5)\n",
    "\n",
    "print(cv)\n",
    "print(cv.mean())"
   ]
  },
  {
   "cell_type": "code",
   "execution_count": 22,
   "id": "15f6336e",
   "metadata": {},
   "outputs": [
    {
     "name": "stdout",
     "output_type": "stream",
     "text": [
      "SVC - kernel=rbf[0.88068182 0.85227273 0.84571429 0.85142857 0.87428571]\n",
      "0.8608766233766234\n"
     ]
    }
   ],
   "source": [
    "print('SVC - kernel=rbf', end='')\n",
    "svc = SVC(kernel='rbf', probability=True)\n",
    "cv = cross_val_score(estimator=svc, X=X_train, y=y_train, cv=5)\n",
    "\n",
    "print(cv)\n",
    "print(cv.mean())"
   ]
  },
  {
   "cell_type": "code",
   "execution_count": 14,
   "id": "483f866c",
   "metadata": {},
   "outputs": [
    {
     "name": "stdout",
     "output_type": "stream",
     "text": [
      "Navie Bayes - Gassian[0.8125     0.81818182 0.78857143 0.81142857 0.80571429]\n",
      "0.8072792207792208\n"
     ]
    }
   ],
   "source": [
    "print('Navie Bayes - Gassian', end='')\n",
    "gnb = GaussianNB()\n",
    "cv = cross_val_score(estimator=gnb, X=X_train, y=y_train, cv=5)\n",
    "\n",
    "print(cv)\n",
    "print(cv.mean())"
   ]
  },
  {
   "cell_type": "code",
   "execution_count": 15,
   "id": "112151f4",
   "metadata": {},
   "outputs": [
    {
     "name": "stdout",
     "output_type": "stream",
     "text": [
      "Decision Tree[0.82386364 0.77840909 0.81714286 0.8        0.78857143]\n",
      "0.8015974025974024\n"
     ]
    }
   ],
   "source": [
    "print('Decision Tree', end='')\n",
    "dtc = DecisionTreeClassifier(criterion='entropy')\n",
    "cv = cross_val_score(estimator=dtc, X=X_train, y=y_train, cv=5)\n",
    "\n",
    "print(cv)\n",
    "print(cv.mean())"
   ]
  },
  {
   "cell_type": "code",
   "execution_count": 16,
   "id": "874a084c",
   "metadata": {},
   "outputs": [
    {
     "name": "stdout",
     "output_type": "stream",
     "text": [
      "Random Forest[0.84659091 0.80113636 0.82857143 0.81714286 0.83428571]\n",
      "0.8255454545454546\n"
     ]
    }
   ],
   "source": [
    "print('Random Forest', end='')\n",
    "rfc = RandomForestClassifier(n_estimators=10, criterion='entropy')\n",
    "cv = cross_val_score(estimator=rfc, X=X_train, y=y_train, cv=5)\n",
    "\n",
    "print(cv)\n",
    "print(cv.mean())"
   ]
  },
  {
   "cell_type": "code",
   "execution_count": 26,
   "id": "71c58c88",
   "metadata": {},
   "outputs": [
    {
     "name": "stdout",
     "output_type": "stream",
     "text": [
      "[0.85454545 0.84931507 0.85844749 0.83561644]\n",
      "0.8494811124948112\n"
     ]
    }
   ],
   "source": [
    "from sklearn.ensemble import VotingClassifier\n",
    "\n",
    "classifiers = [('Logistic Regression', log_reg),\n",
    "               ('KNN', knn),\n",
    "               ('SVC', svc),\n",
    "               ('Navie Bayes - Gassian', gnb),\n",
    "               ('Decision Tree', dtc),\n",
    "               ('Random Forest', rfc)]\n",
    "\n",
    "voting_clf = VotingClassifier(estimators=classifiers, voting='hard')\n",
    "cv = cross_val_score(estimator=voting_clf, X=X_train, y=y_train, cv=4)\n",
    "\n",
    "print(cv)\n",
    "print(cv.mean())"
   ]
  },
  {
   "cell_type": "code",
   "execution_count": 45,
   "id": "7014daa7",
   "metadata": {},
   "outputs": [
    {
     "data": {
      "text/html": [
       "<div>\n",
       "<style scoped>\n",
       "    .dataframe tbody tr th:only-of-type {\n",
       "        vertical-align: middle;\n",
       "    }\n",
       "\n",
       "    .dataframe tbody tr th {\n",
       "        vertical-align: top;\n",
       "    }\n",
       "\n",
       "    .dataframe thead th {\n",
       "        text-align: right;\n",
       "    }\n",
       "</style>\n",
       "<table border=\"1\" class=\"dataframe\">\n",
       "  <thead>\n",
       "    <tr style=\"text-align: right;\">\n",
       "      <th></th>\n",
       "      <th>C</th>\n",
       "      <th>Q</th>\n",
       "      <th>S</th>\n",
       "      <th>1st</th>\n",
       "      <th>2nd</th>\n",
       "      <th>3rd</th>\n",
       "      <th>Sex</th>\n",
       "      <th>Age</th>\n",
       "      <th>SibSp</th>\n",
       "      <th>Parch</th>\n",
       "      <th>Ticket</th>\n",
       "      <th>Fare</th>\n",
       "      <th>Cabin</th>\n",
       "    </tr>\n",
       "  </thead>\n",
       "  <tbody>\n",
       "    <tr>\n",
       "      <th>1</th>\n",
       "      <td>1.0</td>\n",
       "      <td>0.0</td>\n",
       "      <td>0.0</td>\n",
       "      <td>1.0</td>\n",
       "      <td>0.0</td>\n",
       "      <td>0.0</td>\n",
       "      <td>0.0</td>\n",
       "      <td>38.000000</td>\n",
       "      <td>1</td>\n",
       "      <td>0</td>\n",
       "      <td>816.0</td>\n",
       "      <td>71.2833</td>\n",
       "      <td>81.0</td>\n",
       "    </tr>\n",
       "    <tr>\n",
       "      <th>2</th>\n",
       "      <td>0.0</td>\n",
       "      <td>0.0</td>\n",
       "      <td>1.0</td>\n",
       "      <td>0.0</td>\n",
       "      <td>0.0</td>\n",
       "      <td>1.0</td>\n",
       "      <td>0.0</td>\n",
       "      <td>26.000000</td>\n",
       "      <td>0</td>\n",
       "      <td>0</td>\n",
       "      <td>914.0</td>\n",
       "      <td>7.9250</td>\n",
       "      <td>147.0</td>\n",
       "    </tr>\n",
       "    <tr>\n",
       "      <th>5</th>\n",
       "      <td>0.0</td>\n",
       "      <td>1.0</td>\n",
       "      <td>0.0</td>\n",
       "      <td>0.0</td>\n",
       "      <td>0.0</td>\n",
       "      <td>1.0</td>\n",
       "      <td>1.0</td>\n",
       "      <td>29.881138</td>\n",
       "      <td>0</td>\n",
       "      <td>0</td>\n",
       "      <td>373.0</td>\n",
       "      <td>8.4583</td>\n",
       "      <td>147.0</td>\n",
       "    </tr>\n",
       "    <tr>\n",
       "      <th>8</th>\n",
       "      <td>0.0</td>\n",
       "      <td>0.0</td>\n",
       "      <td>1.0</td>\n",
       "      <td>0.0</td>\n",
       "      <td>0.0</td>\n",
       "      <td>1.0</td>\n",
       "      <td>0.0</td>\n",
       "      <td>27.000000</td>\n",
       "      <td>0</td>\n",
       "      <td>2</td>\n",
       "      <td>477.0</td>\n",
       "      <td>11.1333</td>\n",
       "      <td>147.0</td>\n",
       "    </tr>\n",
       "    <tr>\n",
       "      <th>9</th>\n",
       "      <td>1.0</td>\n",
       "      <td>0.0</td>\n",
       "      <td>0.0</td>\n",
       "      <td>0.0</td>\n",
       "      <td>1.0</td>\n",
       "      <td>0.0</td>\n",
       "      <td>0.0</td>\n",
       "      <td>14.000000</td>\n",
       "      <td>1</td>\n",
       "      <td>0</td>\n",
       "      <td>174.0</td>\n",
       "      <td>30.0708</td>\n",
       "      <td>147.0</td>\n",
       "    </tr>\n",
       "    <tr>\n",
       "      <th>...</th>\n",
       "      <td>...</td>\n",
       "      <td>...</td>\n",
       "      <td>...</td>\n",
       "      <td>...</td>\n",
       "      <td>...</td>\n",
       "      <td>...</td>\n",
       "      <td>...</td>\n",
       "      <td>...</td>\n",
       "      <td>...</td>\n",
       "      <td>...</td>\n",
       "      <td>...</td>\n",
       "      <td>...</td>\n",
       "      <td>...</td>\n",
       "    </tr>\n",
       "    <tr>\n",
       "      <th>1299</th>\n",
       "      <td>0.0</td>\n",
       "      <td>0.0</td>\n",
       "      <td>1.0</td>\n",
       "      <td>0.0</td>\n",
       "      <td>0.0</td>\n",
       "      <td>1.0</td>\n",
       "      <td>0.0</td>\n",
       "      <td>29.881138</td>\n",
       "      <td>0</td>\n",
       "      <td>0</td>\n",
       "      <td>394.0</td>\n",
       "      <td>7.7208</td>\n",
       "      <td>147.0</td>\n",
       "    </tr>\n",
       "    <tr>\n",
       "      <th>1302</th>\n",
       "      <td>0.0</td>\n",
       "      <td>1.0</td>\n",
       "      <td>0.0</td>\n",
       "      <td>1.0</td>\n",
       "      <td>0.0</td>\n",
       "      <td>0.0</td>\n",
       "      <td>0.0</td>\n",
       "      <td>37.000000</td>\n",
       "      <td>1</td>\n",
       "      <td>0</td>\n",
       "      <td>120.0</td>\n",
       "      <td>90.0000</td>\n",
       "      <td>147.0</td>\n",
       "    </tr>\n",
       "    <tr>\n",
       "      <th>1305</th>\n",
       "      <td>0.0</td>\n",
       "      <td>0.0</td>\n",
       "      <td>1.0</td>\n",
       "      <td>1.0</td>\n",
       "      <td>0.0</td>\n",
       "      <td>0.0</td>\n",
       "      <td>0.0</td>\n",
       "      <td>39.000000</td>\n",
       "      <td>0</td>\n",
       "      <td>0</td>\n",
       "      <td>834.0</td>\n",
       "      <td>108.9000</td>\n",
       "      <td>147.0</td>\n",
       "    </tr>\n",
       "    <tr>\n",
       "      <th>1306</th>\n",
       "      <td>0.0</td>\n",
       "      <td>0.0</td>\n",
       "      <td>1.0</td>\n",
       "      <td>0.0</td>\n",
       "      <td>0.0</td>\n",
       "      <td>1.0</td>\n",
       "      <td>1.0</td>\n",
       "      <td>38.500000</td>\n",
       "      <td>0</td>\n",
       "      <td>0</td>\n",
       "      <td>872.0</td>\n",
       "      <td>7.2500</td>\n",
       "      <td>147.0</td>\n",
       "    </tr>\n",
       "    <tr>\n",
       "      <th>1308</th>\n",
       "      <td>0.0</td>\n",
       "      <td>0.0</td>\n",
       "      <td>1.0</td>\n",
       "      <td>0.0</td>\n",
       "      <td>0.0</td>\n",
       "      <td>1.0</td>\n",
       "      <td>1.0</td>\n",
       "      <td>29.881138</td>\n",
       "      <td>1</td>\n",
       "      <td>1</td>\n",
       "      <td>262.0</td>\n",
       "      <td>22.3583</td>\n",
       "      <td>147.0</td>\n",
       "    </tr>\n",
       "  </tbody>\n",
       "</table>\n",
       "<p>432 rows × 13 columns</p>\n",
       "</div>"
      ],
      "text/plain": [
       "        C    Q    S  1st  2nd  3rd  Sex        Age  SibSp  Parch  Ticket  \\\n",
       "1     1.0  0.0  0.0  1.0  0.0  0.0  0.0  38.000000      1      0   816.0   \n",
       "2     0.0  0.0  1.0  0.0  0.0  1.0  0.0  26.000000      0      0   914.0   \n",
       "5     0.0  1.0  0.0  0.0  0.0  1.0  1.0  29.881138      0      0   373.0   \n",
       "8     0.0  0.0  1.0  0.0  0.0  1.0  0.0  27.000000      0      2   477.0   \n",
       "9     1.0  0.0  0.0  0.0  1.0  0.0  0.0  14.000000      1      0   174.0   \n",
       "...   ...  ...  ...  ...  ...  ...  ...        ...    ...    ...     ...   \n",
       "1299  0.0  0.0  1.0  0.0  0.0  1.0  0.0  29.881138      0      0   394.0   \n",
       "1302  0.0  1.0  0.0  1.0  0.0  0.0  0.0  37.000000      1      0   120.0   \n",
       "1305  0.0  0.0  1.0  1.0  0.0  0.0  0.0  39.000000      0      0   834.0   \n",
       "1306  0.0  0.0  1.0  0.0  0.0  1.0  1.0  38.500000      0      0   872.0   \n",
       "1308  0.0  0.0  1.0  0.0  0.0  1.0  1.0  29.881138      1      1   262.0   \n",
       "\n",
       "          Fare  Cabin  \n",
       "1      71.2833   81.0  \n",
       "2       7.9250  147.0  \n",
       "5       8.4583  147.0  \n",
       "8      11.1333  147.0  \n",
       "9      30.0708  147.0  \n",
       "...        ...    ...  \n",
       "1299    7.7208  147.0  \n",
       "1302   90.0000  147.0  \n",
       "1305  108.9000  147.0  \n",
       "1306    7.2500  147.0  \n",
       "1308   22.3583  147.0  \n",
       "\n",
       "[432 rows x 13 columns]"
      ]
     },
     "execution_count": 45,
     "metadata": {},
     "output_type": "execute_result"
    }
   ],
   "source": [
    "x_test.sort_index()"
   ]
  },
  {
   "cell_type": "code",
   "execution_count": 44,
   "id": "447b1430",
   "metadata": {},
   "outputs": [
    {
     "name": "stdout",
     "output_type": "stream",
     "text": [
      "[1 1 0 0 1 0 0 0 1 1 0 0 1 0 1 1 0 1 1 1 0 0 0 0 0 1 1 1 1 0 0 0 0 0 1 0 0\n",
      " 1 1 0 0 0 1 0 0 0 1 1 1 1 1 1 0 0 1 1 1 0 0 0 0 0 0 0 0 0 0 0 0 0 0 0 0 0\n",
      " 0 1 0 0 1 0 1 0 1 1 1 0 1 0 0 1 0 1 0 1 0 1 1 0 0 0 0 0 0 0 0 0 1 0 1 1 1\n",
      " 0 0 1 0 0 0 1 1 0 1 0 0 0 1 0 0 0 1 1 0 1 0 0 1 0 0 0 1 0 0 0 0 1 1 1 0 0\n",
      " 0 0 0 1 1 0 1 0 1 0 1 0 1 0 0 1 0 0 0 0 0 0 0 1 0 1 1 1 0 0 1 1 0 1 0 1 1\n",
      " 1 1 1 0 0 1 0 0 1 0 1 1 0 1 0 0 1 0 1 1 0 1 1 1 0 0 0 1 0 1 0 1 0 0 0 0 0\n",
      " 1 1 0 1 0 0 1 1 0 0 1 1 0 1 1 1 1 0 1 0 0 0 0 0 1 1 1 0 1 0 1 0 1 0 1 0 0\n",
      " 1 1 0 1 1 0 1 0 1 0 0 1 1 0 0 1 0 0 1 0 1 0 0 1 0 1 0 1 0 1 0 1 1 0 1 1 1\n",
      " 1 0 1 1 1 1 1 0 0 0 0 0 1 0 0 1 1 1 0 0 1 0 0 0 0 0 0 0 0 1 0 0 1 0 1 1 0\n",
      " 0 1 1 0 1 1 0 1 0 0 0 0 0 1 0 0 0 0 0 0 0 0 0 0 0 0 0 0 0 0 0 0 0 0 1 1 1\n",
      " 0 0 1 0 1 1 0 0 1 0 0 0 0 0 0 0 1 0 0 1 0 0 1 1 0 1 0 0 0 0 1 0 0 0 0 1 0\n",
      " 0 0 1 0 0 0 1 1 0 1 0 1 1 0 1 0 0 0 0 0 1 0 0 0 0]\n"
     ]
    }
   ],
   "source": [
    "voting_clf.fit(X_train, y_train)\n",
    "y_hat_base_vc = voting_clf.predict(X_test).astype(int)\n",
    "\n",
    "basic_submission = {'PassengerId': x_test.index, 'Survived': y_hat_base_vc}\n",
    "base_submission = pd.DataFrame(data=basic_submission)\n",
    "\n",
    "base_submission.to_csv('base_submission.csv', index=False)"
   ]
  },
  {
   "cell_type": "code",
   "execution_count": null,
   "id": "2b4cea42",
   "metadata": {},
   "outputs": [],
   "source": []
  }
 ],
 "metadata": {
  "kernelspec": {
   "display_name": "Python 3",
   "language": "python",
   "name": "python3"
  },
  "language_info": {
   "codemirror_mode": {
    "name": "ipython",
    "version": 3
   },
   "file_extension": ".py",
   "mimetype": "text/x-python",
   "name": "python",
   "nbconvert_exporter": "python",
   "pygments_lexer": "ipython3",
   "version": "3.8.8"
  }
 },
 "nbformat": 4,
 "nbformat_minor": 5
}